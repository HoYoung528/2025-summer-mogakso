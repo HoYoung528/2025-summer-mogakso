{
  "nbformat": 4,
  "nbformat_minor": 0,
  "metadata": {
    "colab": {
      "provenance": [],
      "authorship_tag": "ABX9TyOqBiwmXsDIpWlJiliyySzA",
      "include_colab_link": true
    },
    "kernelspec": {
      "name": "python3",
      "display_name": "Python 3"
    },
    "language_info": {
      "name": "python"
    }
  },
  "cells": [
    {
      "cell_type": "markdown",
      "metadata": {
        "id": "view-in-github",
        "colab_type": "text"
      },
      "source": [
        "<a href=\"https://colab.research.google.com/github/HoYoung528/2025-summer-mogakso/blob/main/AIML/code/Evaluation.ipynb\" target=\"_parent\"><img src=\"https://colab.research.google.com/assets/colab-badge.svg\" alt=\"Open In Colab\"/></a>"
      ]
    },
    {
      "cell_type": "markdown",
      "source": [
        "# 정확도(Accuracy)"
      ],
      "metadata": {
        "id": "La_6h4HGFhK9"
      }
    },
    {
      "cell_type": "code",
      "execution_count": null,
      "metadata": {
        "id": "bAN6c5IlFexJ"
      },
      "outputs": [],
      "source": [
        "import numpy as np\n",
        "from sklearn.base import BaseEstimator\n",
        "\n",
        "class MyDummyClassifier(BaseEstimator):\n",
        "    # fit( ) 메소드는 아무것도 학습하지 않음.\n",
        "    def fit(self, X , y=None):\n",
        "        pass\n",
        "\n",
        "    # predict( ) 메소드는 단순히 Sex feature가 1 이면 0 , 그렇지 않으면 1 로 예측함.\n",
        "    def predict(self, X):\n",
        "        pred = np.zeros( ( X.shape[0], 1 ))\n",
        "        for i in range (X.shape[0]) :\n",
        "            if X['Sex'].iloc[i] == 1:\n",
        "                pred[i] = 0\n",
        "            else :\n",
        "                pred[i] = 1\n",
        "\n",
        "        return pred"
      ]
    },
    {
      "cell_type": "code",
      "source": [
        "import pandas as pd\n",
        "from sklearn.preprocessing import LabelEncoder\n",
        "\n",
        "# Null 처리 함수\n",
        "def fillna(df):\n",
        "    df['Age'].fillna(df['Age'].mean(),inplace=True)\n",
        "    df['Cabin'].fillna('N',inplace=True)\n",
        "    df['Embarked'].fillna('N',inplace=True)\n",
        "    df['Fare'].fillna(0,inplace=True)\n",
        "    return df\n",
        "\n",
        "# 머신러닝 알고리즘에 불필요한 피처 제거\n",
        "def drop_features(df):\n",
        "    df.drop(['PassengerId','Name','Ticket'],axis=1,inplace=True)\n",
        "    return df\n",
        "\n",
        "# 레이블 인코딩 수행.\n",
        "def format_features(df):\n",
        "    df['Cabin'] = df['Cabin'].str[:1]\n",
        "    features = ['Cabin','Sex','Embarked']\n",
        "    for feature in features:\n",
        "        le = LabelEncoder()\n",
        "        le = le.fit(df[feature])\n",
        "        df[feature] = le.transform(df[feature])\n",
        "    return df\n",
        "\n",
        "# 앞에서 설정한 Data Preprocessing 함수 호출\n",
        "def transform_features(df):\n",
        "    df = fillna(df)\n",
        "    df = drop_features(df)\n",
        "    df = format_features(df)\n",
        "    return df"
      ],
      "metadata": {
        "id": "FOD8OoWWF7VR"
      },
      "execution_count": null,
      "outputs": []
    },
    {
      "cell_type": "code",
      "source": [
        "import pandas as pd\n",
        "from sklearn.model_selection import train_test_split\n",
        "from sklearn.metrics import accuracy_score\n",
        "\n",
        "# 원본 데이터를 재로딩, 데이터 가공, 학습데이터/테스트 데이터 분할.\n",
        "titanic_df = pd.read_csv('./titanic_train.csv')\n",
        "y_titanic_df = titanic_df['Survived']\n",
        "X_titanic_df= titanic_df.drop('Survived', axis=1)\n",
        "X_titanic_df = transform_features(X_titanic_df)\n",
        "X_train, X_test, y_train, y_test=train_test_split(X_titanic_df, y_titanic_df, \\\n",
        "                                                  test_size=0.2, random_state=0)\n",
        "\n",
        "# 위에서 생성한 Dummy Classifier를 이용하여 학습/예측/평가 수행.\n",
        "myclf = MyDummyClassifier()\n",
        "myclf.fit(X_train ,y_train)\n",
        "\n",
        "mypredictions = myclf.predict(X_test)\n",
        "print('Dummy Classifier의 정확도는: {0:.4f}'.format(accuracy_score(y_test , mypredictions)))"
      ],
      "metadata": {
        "colab": {
          "base_uri": "https://localhost:8080/"
        },
        "id": "XSCX7-HnGZgu",
        "outputId": "beec356b-d598-4ebd-a935-19f79b6933a6"
      },
      "execution_count": null,
      "outputs": [
        {
          "output_type": "stream",
          "name": "stdout",
          "text": [
            "Dummy Classifier의 정확도는: 0.7877\n"
          ]
        },
        {
          "output_type": "stream",
          "name": "stderr",
          "text": [
            "/tmp/ipython-input-2-1702528873.py:6: FutureWarning: A value is trying to be set on a copy of a DataFrame or Series through chained assignment using an inplace method.\n",
            "The behavior will change in pandas 3.0. This inplace method will never work because the intermediate object on which we are setting values always behaves as a copy.\n",
            "\n",
            "For example, when doing 'df[col].method(value, inplace=True)', try using 'df.method({col: value}, inplace=True)' or df[col] = df[col].method(value) instead, to perform the operation inplace on the original object.\n",
            "\n",
            "\n",
            "  df['Age'].fillna(df['Age'].mean(),inplace=True)\n",
            "/tmp/ipython-input-2-1702528873.py:7: FutureWarning: A value is trying to be set on a copy of a DataFrame or Series through chained assignment using an inplace method.\n",
            "The behavior will change in pandas 3.0. This inplace method will never work because the intermediate object on which we are setting values always behaves as a copy.\n",
            "\n",
            "For example, when doing 'df[col].method(value, inplace=True)', try using 'df.method({col: value}, inplace=True)' or df[col] = df[col].method(value) instead, to perform the operation inplace on the original object.\n",
            "\n",
            "\n",
            "  df['Cabin'].fillna('N',inplace=True)\n",
            "/tmp/ipython-input-2-1702528873.py:8: FutureWarning: A value is trying to be set on a copy of a DataFrame or Series through chained assignment using an inplace method.\n",
            "The behavior will change in pandas 3.0. This inplace method will never work because the intermediate object on which we are setting values always behaves as a copy.\n",
            "\n",
            "For example, when doing 'df[col].method(value, inplace=True)', try using 'df.method({col: value}, inplace=True)' or df[col] = df[col].method(value) instead, to perform the operation inplace on the original object.\n",
            "\n",
            "\n",
            "  df['Embarked'].fillna('N',inplace=True)\n",
            "/tmp/ipython-input-2-1702528873.py:9: FutureWarning: A value is trying to be set on a copy of a DataFrame or Series through chained assignment using an inplace method.\n",
            "The behavior will change in pandas 3.0. This inplace method will never work because the intermediate object on which we are setting values always behaves as a copy.\n",
            "\n",
            "For example, when doing 'df[col].method(value, inplace=True)', try using 'df.method({col: value}, inplace=True)' or df[col] = df[col].method(value) instead, to perform the operation inplace on the original object.\n",
            "\n",
            "\n",
            "  df['Fare'].fillna(0,inplace=True)\n"
          ]
        }
      ]
    },
    {
      "cell_type": "code",
      "source": [
        "from sklearn.datasets import load_digits\n",
        "from sklearn.model_selection import train_test_split\n",
        "from sklearn.base import BaseEstimator\n",
        "from sklearn.metrics import accuracy_score\n",
        "import numpy as np\n",
        "import pandas as pd\n",
        "\n",
        "class MyFakeClassifier(BaseEstimator):\n",
        "    def fit(self,X,y):\n",
        "        pass\n",
        "\n",
        "    # 입력값으로 들어오는 X 데이터 셋의 크기만큼 모두 0값으로 만들어서 반환\n",
        "    def predict(self,X):\n",
        "        return np.zeros( (len(X), 1) , dtype=bool)\n",
        "\n",
        "# 사이킷런의 내장 데이터 셋인 load_digits( )를 이용하여 MNIST 데이터 로딩\n",
        "digits = load_digits()\n",
        "\n",
        "print(digits.data)\n",
        "print(\"### digits.data.shape:\", digits.data.shape)\n",
        "print(digits.target)\n",
        "print(\"### digits.target.shape:\", digits.target.shape)"
      ],
      "metadata": {
        "colab": {
          "base_uri": "https://localhost:8080/"
        },
        "id": "CYQ2shaTGluE",
        "outputId": "c56eaaca-9050-429a-c644-7bd37479246d"
      },
      "execution_count": null,
      "outputs": [
        {
          "output_type": "stream",
          "name": "stdout",
          "text": [
            "[[ 0.  0.  5. ...  0.  0.  0.]\n",
            " [ 0.  0.  0. ... 10.  0.  0.]\n",
            " [ 0.  0.  0. ... 16.  9.  0.]\n",
            " ...\n",
            " [ 0.  0.  1. ...  6.  0.  0.]\n",
            " [ 0.  0.  2. ... 12.  0.  0.]\n",
            " [ 0.  0. 10. ... 12.  1.  0.]]\n",
            "### digits.data.shape: (1797, 64)\n",
            "[0 1 2 ... 8 9 8]\n",
            "### digits.target.shape: (1797,)\n"
          ]
        }
      ]
    },
    {
      "cell_type": "code",
      "source": [
        "# digits번호가 7번이면 True이고 이를 astype(int)로 1로 변환, 7번이 아니면 False이고 0으로 변환.\n",
        "y = (digits.target == 7).astype(int)\n",
        "X_train, X_test, y_train, y_test = train_test_split( digits.data, y, random_state=11)"
      ],
      "metadata": {
        "id": "9uwNjzhNG27T"
      },
      "execution_count": null,
      "outputs": []
    },
    {
      "cell_type": "code",
      "source": [
        "# 불균형한 레이블 데이터 분포도 확인.\n",
        "print('레이블 테스트 세트 크기 :', y_test.shape)\n",
        "print('테스트 세트 레이블 0 과 1의 분포도')\n",
        "print(pd.Series(y_test).value_counts())\n",
        "\n",
        "# Dummy Classifier로 학습/예측/정확도 평가\n",
        "fakeclf = MyFakeClassifier()\n",
        "fakeclf.fit(X_train , y_train)\n",
        "fakepred = fakeclf.predict(X_test)\n",
        "print('모든 예측을 0으로 하여도 정확도는:{:.3f}'.format(accuracy_score(y_test , fakepred)))"
      ],
      "metadata": {
        "colab": {
          "base_uri": "https://localhost:8080/"
        },
        "id": "BGW3UmccHXgm",
        "outputId": "e83e9fc9-be41-47f4-b2cf-9d69b701ef70"
      },
      "execution_count": null,
      "outputs": [
        {
          "output_type": "stream",
          "name": "stdout",
          "text": [
            "레이블 테스트 세트 크기 : (450,)\n",
            "테스트 세트 레이블 0 과 1의 분포도\n",
            "0    405\n",
            "1     45\n",
            "Name: count, dtype: int64\n",
            "모든 예측을 0으로 하여도 정확도는:0.900\n"
          ]
        }
      ]
    },
    {
      "cell_type": "markdown",
      "source": [
        "# Cunfusion Matrix"
      ],
      "metadata": {
        "id": "YJAMUTXTJVUD"
      }
    },
    {
      "cell_type": "code",
      "source": [
        "from sklearn.metrics import confusion_matrix\n",
        "\n",
        "confusion_matrix(y_test, fakepred)"
      ],
      "metadata": {
        "colab": {
          "base_uri": "https://localhost:8080/"
        },
        "id": "xe9-abBhJW7P",
        "outputId": "0e0fa2dc-cedd-4631-e578-3105fc593377"
      },
      "execution_count": null,
      "outputs": [
        {
          "output_type": "execute_result",
          "data": {
            "text/plain": [
              "array([[405,   0],\n",
              "       [ 45,   0]])"
            ]
          },
          "metadata": {},
          "execution_count": 8
        }
      ]
    },
    {
      "cell_type": "markdown",
      "source": [
        "# 정밀도(Precision)과 재현율(Recall)\n",
        "MyFakeClassifier의 예측 결과로 정밀도와 재현율 측정"
      ],
      "metadata": {
        "id": "qmvrSsADLKlu"
      }
    },
    {
      "cell_type": "code",
      "source": [
        "from sklearn.metrics import accuracy_score, precision_score, recall_score\n",
        "print('정밀도: ', precision_score(y_test, fakepred))\n",
        "print('재현율: ', recall_score(y_test, fakepred))"
      ],
      "metadata": {
        "colab": {
          "base_uri": "https://localhost:8080/"
        },
        "id": "GAlsdvcOJcSh",
        "outputId": "614f4f8b-010c-487b-f935-e8230f1ce7e9"
      },
      "execution_count": null,
      "outputs": [
        {
          "output_type": "stream",
          "name": "stdout",
          "text": [
            "정밀도:  0.0\n",
            "재현율:  0.0\n"
          ]
        },
        {
          "output_type": "stream",
          "name": "stderr",
          "text": [
            "/usr/local/lib/python3.11/dist-packages/sklearn/metrics/_classification.py:1565: UndefinedMetricWarning: Precision is ill-defined and being set to 0.0 due to no predicted samples. Use `zero_division` parameter to control this behavior.\n",
            "  _warn_prf(average, modifier, f\"{metric.capitalize()} is\", len(result))\n"
          ]
        }
      ]
    },
    {
      "cell_type": "code",
      "source": [
        "from sklearn.metrics import accuracy_score, precision_score , recall_score , confusion_matrix\n",
        "\n",
        "def get_clf_eval(y_test , pred):\n",
        "    confusion = confusion_matrix( y_test, pred)\n",
        "    accuracy = accuracy_score(y_test , pred)\n",
        "    precision = precision_score(y_test , pred)\n",
        "    recall = recall_score(y_test , pred)\n",
        "    print('오차 행렬')\n",
        "    print(confusion)\n",
        "    print('정확도: {0:.4f}, 정밀도: {1:.4f}, 재현율: {2:.4f}'.format(accuracy , precision ,recall))"
      ],
      "metadata": {
        "id": "1awjszLbLzp4"
      },
      "execution_count": null,
      "outputs": []
    },
    {
      "cell_type": "code",
      "source": [
        "import numpy as np\n",
        "import pandas as pd\n",
        "\n",
        "from sklearn.model_selection import train_test_split\n",
        "from sklearn.linear_model import LogisticRegression\n",
        "import warnings\n",
        "warnings.filterwarnings('ignore')\n",
        "\n",
        "# 원본 데이터를 재로딩, 데이터 가공, 학습데이터/테스트 데이터 분할.\n",
        "titanic_df = pd.read_csv('./titanic_train.csv')\n",
        "y_titanic_df = titanic_df['Survived']\n",
        "X_titanic_df= titanic_df.drop('Survived', axis=1)\n",
        "X_titanic_df = transform_features(X_titanic_df)\n",
        "\n",
        "X_train, X_test, y_train, y_test = train_test_split(X_titanic_df, y_titanic_df, \\\n",
        "                                                    test_size=0.20, random_state=11)\n",
        "\n",
        "lr_clf = LogisticRegression(solver='liblinear')\n",
        "\n",
        "lr_clf.fit(X_train , y_train)\n",
        "pred = lr_clf.predict(X_test)\n",
        "get_clf_eval(y_test , pred)"
      ],
      "metadata": {
        "id": "mrd5YN-vL5KA",
        "outputId": "a86bab2a-3aeb-4d43-bdc9-64e9e0957b1c",
        "colab": {
          "base_uri": "https://localhost:8080/"
        }
      },
      "execution_count": null,
      "outputs": [
        {
          "output_type": "stream",
          "name": "stdout",
          "text": [
            "오차 행렬\n",
            "[[108  10]\n",
            " [ 14  47]]\n",
            "정확도: 0.8659, 정밀도: 0.8246, 재현율: 0.7705\n"
          ]
        }
      ]
    },
    {
      "cell_type": "markdown",
      "source": [
        "### Precision/Recall Trade-off"
      ],
      "metadata": {
        "id": "26Z8bFP2jXdu"
      }
    },
    {
      "cell_type": "markdown",
      "source": [
        "**predict_proba( ) 메소드 확인**"
      ],
      "metadata": {
        "id": "A1E6Lo7xjY-i"
      }
    },
    {
      "cell_type": "code",
      "source": [
        "pred_proba = lr_clf.predict_proba(X_test)\n",
        "pred  = lr_clf.predict(X_test)\n",
        "print('pred_proba()결과 Shape : {0}'.format(pred_proba.shape))\n",
        "print('pred_proba array에서 앞 3개만 샘플로 추출 \\n:', pred_proba[:3])\n",
        "\n",
        "# 예측 확률 array 와 예측 결과값 array 를 concatenate 하여 예측 확률과 결과값을 한눈에 확인\n",
        "pred_proba_result = np.concatenate([pred_proba , pred.reshape(-1,1)],axis=1)\n",
        "print('두개의 class 중에서 더 큰 확률을 클래스 값으로 예측 \\n',pred_proba_result[:3])\n"
      ],
      "metadata": {
        "colab": {
          "base_uri": "https://localhost:8080/"
        },
        "id": "GBPlo4Lojco7",
        "outputId": "e7f98401-d54e-4bcb-90b5-b426e530e27e"
      },
      "execution_count": null,
      "outputs": [
        {
          "output_type": "stream",
          "name": "stdout",
          "text": [
            "pred_proba()결과 Shape : (179, 2)\n",
            "pred_proba array에서 앞 3개만 샘플로 추출 \n",
            ": [[0.44935227 0.55064773]\n",
            " [0.86335512 0.13664488]\n",
            " [0.86429645 0.13570355]]\n",
            "두개의 class 중에서 더 큰 확률을 클래스 값으로 예측 \n",
            " [[0.44935227 0.55064773 1.        ]\n",
            " [0.86335512 0.13664488 0.        ]\n",
            " [0.86429645 0.13570355 0.        ]]\n"
          ]
        }
      ]
    },
    {
      "cell_type": "markdown",
      "source": [
        "**Binarizer 활용**"
      ],
      "metadata": {
        "id": "xx4RtmhIkY6u"
      }
    },
    {
      "cell_type": "code",
      "source": [
        "from sklearn.preprocessing import Binarizer\n",
        "\n",
        "X = [[ 1, -1,  2],\n",
        "     [ 2,  0,  0],\n",
        "     [ 0,  1.1, 1.2]]\n",
        "\n",
        "binarizer = Binarizer(threshold=1.1)\n",
        "print(binarizer.fit_transform(X))"
      ],
      "metadata": {
        "colab": {
          "base_uri": "https://localhost:8080/"
        },
        "id": "mi1uXfqcjs6m",
        "outputId": "07b620fb-7b8f-4dc3-a65f-150c6d8e33d4"
      },
      "execution_count": null,
      "outputs": [
        {
          "output_type": "stream",
          "name": "stdout",
          "text": [
            "[[0. 0. 1.]\n",
            " [1. 0. 0.]\n",
            " [0. 0. 1.]]\n"
          ]
        }
      ]
    },
    {
      "cell_type": "markdown",
      "source": [
        "**분류 결정 임계값 0.5 기반에서 Binarizer를 이용하여 예측값 반환**"
      ],
      "metadata": {
        "id": "H6E303XSkwxA"
      }
    },
    {
      "cell_type": "code",
      "source": [
        "from sklearn.preprocessing import Binarizer\n",
        "\n",
        "# threshold 값 0.5로 설정\n",
        "custom_threshold = 0.5\n",
        "\n",
        "# predict_proba() 반환값의 두 번째 컬림 -> Positive 클래스 컬럼만 추출하여 BInarizer 적용\n",
        "predict_proba_1 = pred_proba[:,1].reshape(-1,1)\n",
        "\n",
        "binarizer1 = Binarizer(threshold=custom_threshold).fit(predict_proba_1)\n",
        "custom_predict = binarizer1.transform(predict_proba_1)\n",
        "\n",
        "get_clf_eval(y_test, custom_predict)"
      ],
      "metadata": {
        "colab": {
          "base_uri": "https://localhost:8080/"
        },
        "id": "Cu7rWmO7k3Vh",
        "outputId": "ec8f1a29-bc36-4da0-c8e0-3b00fbf0ee5c"
      },
      "execution_count": null,
      "outputs": [
        {
          "output_type": "stream",
          "name": "stdout",
          "text": [
            "오차 행렬\n",
            "[[108  10]\n",
            " [ 14  47]]\n",
            "정확도: 0.8659, 정밀도: 0.8246, 재현율: 0.7705\n"
          ]
        }
      ]
    },
    {
      "cell_type": "code",
      "source": [
        "from sklearn.preprocessing import Binarizer\n",
        "\n",
        "# threshold 값 0.4로 설정\n",
        "custom_threshold = 0.4\n",
        "\n",
        "predict_proba_1 = pred_proba[:,1].reshape(-1,1)\n",
        "\n",
        "binarizer1 = Binarizer(threshold=custom_threshold).fit(predict_proba_1)\n",
        "custom_predict = binarizer1.transform(predict_proba_1)\n",
        "\n",
        "get_clf_eval(y_test, custom_predict)"
      ],
      "metadata": {
        "colab": {
          "base_uri": "https://localhost:8080/"
        },
        "id": "wQkvqQRqlc91",
        "outputId": "1f770a77-74d5-40ab-b335-537033a4cae9"
      },
      "execution_count": null,
      "outputs": [
        {
          "output_type": "stream",
          "name": "stdout",
          "text": [
            "오차 행렬\n",
            "[[97 21]\n",
            " [11 50]]\n",
            "정확도: 0.8212, 정밀도: 0.7042, 재현율: 0.8197\n"
          ]
        }
      ]
    },
    {
      "cell_type": "code",
      "source": [
        "# 테스트를 수행할 모든 임곗값을 리스트 객체로 저장.\n",
        "thresholds = [0.4, 0.45, 0.50, 0.55, 0.60]\n",
        "\n",
        "def get_eval_by_threshold(y_test , pred_proba_c1, thresholds):\n",
        "    # thresholds list객체내의 값을 차례로 iteration하면서 Evaluation 수행.\n",
        "    for custom_threshold in thresholds:\n",
        "        binarizer = Binarizer(threshold=custom_threshold).fit(pred_proba_c1)\n",
        "        custom_predict = binarizer.transform(pred_proba_c1)\n",
        "        print('임곗값:',custom_threshold)\n",
        "        get_clf_eval(y_test , custom_predict)\n",
        "\n",
        "get_eval_by_threshold(y_test ,pred_proba[:,1].reshape(-1,1), thresholds )"
      ],
      "metadata": {
        "colab": {
          "base_uri": "https://localhost:8080/"
        },
        "id": "y0KSPBu-l8de",
        "outputId": "aa4d738f-c6ae-4993-c14f-88d52b648ed8"
      },
      "execution_count": null,
      "outputs": [
        {
          "output_type": "stream",
          "name": "stdout",
          "text": [
            "임곗값: 0.4\n",
            "오차 행렬\n",
            "[[97 21]\n",
            " [11 50]]\n",
            "정확도: 0.8212, 정밀도: 0.7042, 재현율: 0.8197\n",
            "임곗값: 0.45\n",
            "오차 행렬\n",
            "[[105  13]\n",
            " [ 13  48]]\n",
            "정확도: 0.8547, 정밀도: 0.7869, 재현율: 0.7869\n",
            "임곗값: 0.5\n",
            "오차 행렬\n",
            "[[108  10]\n",
            " [ 14  47]]\n",
            "정확도: 0.8659, 정밀도: 0.8246, 재현율: 0.7705\n",
            "임곗값: 0.55\n",
            "오차 행렬\n",
            "[[111   7]\n",
            " [ 16  45]]\n",
            "정확도: 0.8715, 정밀도: 0.8654, 재현율: 0.7377\n",
            "임곗값: 0.6\n",
            "오차 행렬\n",
            "[[113   5]\n",
            " [ 17  44]]\n",
            "정확도: 0.8771, 정밀도: 0.8980, 재현율: 0.7213\n"
          ]
        }
      ]
    },
    {
      "cell_type": "markdown",
      "source": [
        "* precision_recall_curve( ) 를 이용하여 임곗값에 따른 정밀도-재현율 값 추출"
      ],
      "metadata": {
        "id": "9e6j0YndmWFd"
      }
    },
    {
      "cell_type": "code",
      "source": [
        "from sklearn.metrics import precision_recall_curve\n",
        "\n",
        "# 레이블 값이 1일때의 예측 확률을 추출\n",
        "pred_proba_class1 = lr_clf.predict_proba(X_test)[:, 1]\n",
        "\n",
        "# 실제값 데이터 셋과 레이블 값이 1일 때의 예측 확률을 precision_recall_curve 인자로 입력\n",
        "precisions, recalls, thresholds = precision_recall_curve(y_test, pred_proba_class1 )\n",
        "print('반환된 분류 결정 임곗값 배열의 Shape:', thresholds.shape)\n",
        "print('반환된 precisions 배열의 Shape:', precisions.shape)\n",
        "print('반환된 recalls 배열의 Shape:', recalls.shape)\n",
        "\n",
        "print('thresholds 5 sample:', thresholds[:5])\n",
        "print('precisions 5 sample:', precisions[:5])\n",
        "print('recalls 5 sample:', recalls[:5])\n",
        "\n",
        "#반환된 임계값 배열 로우가 147건이므로 샘플로 10건만 추출하되, 임곗값을 15 Step으로 추출.\n",
        "thr_index = np.arange(0, thresholds.shape[0], 15)\n",
        "print('샘플 추출을 위한 임계값 배열의 index 10개:', thr_index)\n",
        "print('샘플용 10개의 임곗값: ', np.round(thresholds[thr_index], 2))\n",
        "\n",
        "# 15 step 단위로 추출된 임계값에 따른 정밀도와 재현율 값\n",
        "print('샘플 임계값별 정밀도: ', np.round(precisions[thr_index], 3))\n",
        "print('샘플 임계값별 재현율: ', np.round(recalls[thr_index], 3))"
      ],
      "metadata": {
        "colab": {
          "base_uri": "https://localhost:8080/"
        },
        "id": "In0ITTUxmUhP",
        "outputId": "67c21439-251b-466e-d122-dde552271332"
      },
      "execution_count": null,
      "outputs": [
        {
          "output_type": "stream",
          "name": "stdout",
          "text": [
            "반환된 분류 결정 임곗값 배열의 Shape: (165,)\n",
            "반환된 precisions 배열의 Shape: (166,)\n",
            "반환된 recalls 배열의 Shape: (166,)\n",
            "thresholds 5 sample: [0.01974988 0.06956414 0.08402808 0.08474207 0.08920161]\n",
            "precisions 5 sample: [0.34078212 0.34269663 0.34463277 0.34659091 0.34857143]\n",
            "recalls 5 sample: [1. 1. 1. 1. 1.]\n",
            "샘플 추출을 위한 임계값 배열의 index 10개: [  0  15  30  45  60  75  90 105 120 135 150]\n",
            "샘플용 10개의 임곗값:  [0.02 0.11 0.13 0.14 0.16 0.24 0.32 0.45 0.62 0.73 0.87]\n",
            "샘플 임계값별 정밀도:  [0.341 0.372 0.401 0.44  0.505 0.598 0.688 0.774 0.915 0.968 0.938]\n",
            "샘플 임계값별 재현율:  [1.    1.    0.967 0.902 0.902 0.902 0.869 0.787 0.705 0.492 0.246]\n"
          ]
        }
      ]
    },
    {
      "cell_type": "markdown",
      "source": [
        "**임곗값의 변경에 따른 정밀도-재현율 변화 곡선을 그림**"
      ],
      "metadata": {
        "id": "zwl2FX02m3A6"
      }
    },
    {
      "cell_type": "code",
      "source": [
        "import matplotlib.pyplot as plt\n",
        "import matplotlib.ticker as ticker\n",
        "%matplotlib inline\n",
        "\n",
        "def precision_recall_curve_plot(y_test , pred_proba_c1):\n",
        "    # threshold ndarray와 이 threshold에 따른 정밀도, 재현율 ndarray 추출.\n",
        "    precisions, recalls, thresholds = precision_recall_curve( y_test, pred_proba_c1)\n",
        "\n",
        "    # X축을 threshold값으로, Y축은 정밀도, 재현율 값으로 각각 Plot 수행. 정밀도는 점선으로 표시\n",
        "    plt.figure(figsize=(8,6))\n",
        "    threshold_boundary = thresholds.shape[0]\n",
        "    plt.plot(thresholds, precisions[0:threshold_boundary], linestyle='--', label='precision')\n",
        "    plt.plot(thresholds, recalls[0:threshold_boundary],label='recall')\n",
        "\n",
        "    # threshold 값 X 축의 Scale을 0.1 단위로 변경\n",
        "    start, end = plt.xlim()\n",
        "    plt.xticks(np.round(np.arange(start, end, 0.1),2))\n",
        "\n",
        "    # x축, y축 label과 legend, 그리고 grid 설정\n",
        "    plt.xlabel('Threshold value'); plt.ylabel('Precision and Recall value')\n",
        "    plt.legend(); plt.grid()\n",
        "    plt.show()\n",
        "\n",
        "precision_recall_curve_plot( y_test, lr_clf.predict_proba(X_test)[:, 1] )\n"
      ],
      "metadata": {
        "colab": {
          "base_uri": "https://localhost:8080/",
          "height": 542
        },
        "id": "vrTLsrrjm3fy",
        "outputId": "d0d73a17-6fb1-45a7-ecb5-baa18d776dba"
      },
      "execution_count": null,
      "outputs": [
        {
          "output_type": "display_data",
          "data": {
            "text/plain": [
              "<Figure size 800x600 with 1 Axes>"
            ],
            "image/png": "[encoded data removed]"
          },
          "metadata": {}
        }
      ]
    },
    {
      "cell_type": "markdown",
      "source": [
        "# F1 Score"
      ],
      "metadata": {
        "id": "Iswbu3EbrinJ"
      }
    },
    {
      "cell_type": "code",
      "source": [
        "from sklearn.metrics import f1_score\n",
        "f1 = f1_score(y_test , pred)\n",
        "print('F1 스코어: {0: .4f}'.format(f1))"
      ],
      "metadata": {
        "colab": {
          "base_uri": "https://localhost:8080/"
        },
        "id": "-li9bt12rleA",
        "outputId": "1b9e69e5-b4fc-4e5c-de6b-a13964103945"
      },
      "execution_count": null,
      "outputs": [
        {
          "output_type": "stream",
          "name": "stdout",
          "text": [
            "F1 스코어:  0.7966\n"
          ]
        }
      ]
    },
    {
      "cell_type": "code",
      "source": [
        "def get_clf_eval(y_test , pred):\n",
        "    confusion = confusion_matrix( y_test, pred)\n",
        "    accuracy = accuracy_score(y_test , pred)\n",
        "    precision = precision_score(y_test , pred)\n",
        "    recall = recall_score(y_test , pred)\n",
        "    # F1 스코어 추가\n",
        "    f1 = f1_score(y_test,pred)\n",
        "    print('오차 행렬')\n",
        "    print(confusion)\n",
        "    # f1 score print 추가\n",
        "    print('정확도: {0:.4f}, 정밀도: {1:.4f}, 재현율: {2:.4f}, F1:{3:.4f}'.format(accuracy, precision, recall, f1))\n",
        "\n",
        "thresholds = [0.4 , 0.45 , 0.50 , 0.55 , 0.60]\n",
        "pred_proba = lr_clf.predict_proba(X_test)\n",
        "get_eval_by_threshold(y_test, pred_proba[:,1].reshape(-1,1), thresholds)\n"
      ],
      "metadata": {
        "colab": {
          "base_uri": "https://localhost:8080/"
        },
        "id": "j4p4B3J1sB82",
        "outputId": "bfc2a552-894b-41f2-918b-6568c3fc5604"
      },
      "execution_count": null,
      "outputs": [
        {
          "output_type": "stream",
          "name": "stdout",
          "text": [
            "임곗값: 0.4\n",
            "오차 행렬\n",
            "[[97 21]\n",
            " [11 50]]\n",
            "정확도: 0.8212, 정밀도: 0.7042, 재현율: 0.8197, F1:0.7576\n",
            "임곗값: 0.45\n",
            "오차 행렬\n",
            "[[105  13]\n",
            " [ 13  48]]\n",
            "정확도: 0.8547, 정밀도: 0.7869, 재현율: 0.7869, F1:0.7869\n",
            "임곗값: 0.5\n",
            "오차 행렬\n",
            "[[108  10]\n",
            " [ 14  47]]\n",
            "정확도: 0.8659, 정밀도: 0.8246, 재현율: 0.7705, F1:0.7966\n",
            "임곗값: 0.55\n",
            "오차 행렬\n",
            "[[111   7]\n",
            " [ 16  45]]\n",
            "정확도: 0.8715, 정밀도: 0.8654, 재현율: 0.7377, F1:0.7965\n",
            "임곗값: 0.6\n",
            "오차 행렬\n",
            "[[113   5]\n",
            " [ 17  44]]\n",
            "정확도: 0.8771, 정밀도: 0.8980, 재현율: 0.7213, F1:0.8000\n"
          ]
        }
      ]
    },
    {
      "cell_type": "markdown",
      "source": [
        "# ROC Curve와 AUC"
      ],
      "metadata": {
        "id": "DINurBoPtICA"
      }
    },
    {
      "cell_type": "code",
      "source": [
        "from sklearn.metrics import roc_curve\n",
        "\n",
        "# 레이블 값이 1일때의 예측 확률을 추출\n",
        "pred_proba_class1 = lr_clf.predict_proba(X_test)[:, 1]\n",
        "\n",
        "fprs , tprs , thresholds = roc_curve(y_test, pred_proba_class1)\n",
        "# 반환된 임곗값 배열에서 샘플로 데이터를 추출하되, 임곗값을 5 Step으로 추출.\n",
        "# thresholds[0]은 max(예측확률)+1로 임의 설정됨. 이를 제외하기 위해 np.arange는 1부터 시작\n",
        "thr_index = np.arange(1, thresholds.shape[0], 5)\n",
        "print('샘플 추출을 위한 임곗값 배열의 index:', thr_index)\n",
        "print('샘플 index로 추출한 임곗값: ', np.round(thresholds[thr_index], 2))\n",
        "\n",
        "# 5 step 단위로 추출된 임계값에 따른 FPR, TPR 값\n",
        "print('샘플 임곗값별 FPR: ', np.round(fprs[thr_index], 3))\n",
        "print('샘플 임곗값별 TPR: ', np.round(tprs[thr_index], 3))\n"
      ],
      "metadata": {
        "colab": {
          "base_uri": "https://localhost:8080/"
        },
        "id": "dkQzuORHtKZy",
        "outputId": "145c6d1c-45df-42cb-9255-d89ddc94a39f"
      },
      "execution_count": null,
      "outputs": [
        {
          "output_type": "stream",
          "name": "stdout",
          "text": [
            "샘플 추출을 위한 임곗값 배열의 index: [ 1  6 11 16 21 26 31 36 41 46]\n",
            "샘플 index로 추출한 임곗값:  [0.94 0.73 0.62 0.52 0.44 0.28 0.15 0.14 0.13 0.12]\n",
            "샘플 임곗값별 FPR:  [0.    0.008 0.025 0.076 0.127 0.254 0.576 0.61  0.746 0.847]\n",
            "샘플 임곗값별 TPR:  [0.016 0.492 0.705 0.738 0.803 0.885 0.902 0.951 0.967 1.   ]\n"
          ]
        }
      ]
    },
    {
      "cell_type": "code",
      "source": [
        "def roc_curve_plot(y_test , pred_proba_c1):\n",
        "    # 임곗값에 따른 FPR, TPR 값을 반환 받음.\n",
        "    fprs , tprs , thresholds = roc_curve(y_test ,pred_proba_c1)\n",
        "\n",
        "    # ROC Curve를 plot 곡선으로 그림.\n",
        "    plt.plot(fprs , tprs, label='ROC')\n",
        "    # 가운데 대각선 직선을 그림.\n",
        "    plt.plot([0, 1], [0, 1], 'k--', label='Random')\n",
        "\n",
        "    # FPR X 축의 Scale을 0.1 단위로 변경, X,Y 축명 설정등\n",
        "    start, end = plt.xlim()\n",
        "    plt.xticks(np.round(np.arange(start, end, 0.1),2))\n",
        "    plt.xlim(0,1); plt.ylim(0,1)\n",
        "    plt.xlabel('FPR( 1 - Sensitivity )'); plt.ylabel('TPR( Recall )')\n",
        "    plt.legend()\n",
        "    plt.show()\n",
        "\n",
        "roc_curve_plot(y_test, lr_clf.predict_proba(X_test)[:, 1] )\n"
      ],
      "metadata": {
        "colab": {
          "base_uri": "https://localhost:8080/",
          "height": 455
        },
        "id": "UR2cTLyIuBu9",
        "outputId": "d52969e9-8ef5-4cb4-e9a2-e6fe079c68d1"
      },
      "execution_count": null,
      "outputs": [
        {
          "output_type": "display_data",
          "data": {
            "text/plain": [
              "<Figure size 640x480 with 1 Axes>"
            ],
            "image/png": "[encoded data removed]"
          },
          "metadata": {}
        }
      ]
    },
    {
      "cell_type": "code",
      "source": [
        "from sklearn.metrics import roc_auc_score\n",
        "\n",
        "\n",
        "pred_proba = lr_clf.predict_proba(X_test)[:, 1]\n",
        "roc_score = roc_auc_score(y_test, pred_proba)\n",
        "print('ROC AUC 값: {0:.4f}'.format(roc_score))\n"
      ],
      "metadata": {
        "colab": {
          "base_uri": "https://localhost:8080/"
        },
        "id": "sKENAZp9uCMz",
        "outputId": "41e16619-dfc1-4bc8-8783-d63be4f5a334"
      },
      "execution_count": null,
      "outputs": [
        {
          "output_type": "stream",
          "name": "stdout",
          "text": [
            "ROC AUC 값: 0.8987\n"
          ]
        }
      ]
    },
    {
      "cell_type": "code",
      "source": [
        "def get_clf_eval(y_test, pred=None, pred_proba=None):\n",
        "    confusion = confusion_matrix( y_test, pred)\n",
        "    accuracy = accuracy_score(y_test , pred)\n",
        "    precision = precision_score(y_test , pred)\n",
        "    recall = recall_score(y_test , pred)\n",
        "    f1 = f1_score(y_test,pred)\n",
        "    # ROC-AUC 추가\n",
        "    roc_auc = roc_auc_score(y_test, pred_proba)\n",
        "    print('오차 행렬')\n",
        "    print(confusion)\n",
        "    # ROC-AUC print 추가\n",
        "    print('정확도: {0:.4f}, 정밀도: {1:.4f}, 재현율: {2:.4f},\\\n",
        "          F1: {3:.4f}, AUC:{4:.4f}'.format(accuracy, precision, recall, f1, roc_auc))\n"
      ],
      "metadata": {
        "id": "3QfE9pbQuiyM"
      },
      "execution_count": null,
      "outputs": []
    }
  ]
}