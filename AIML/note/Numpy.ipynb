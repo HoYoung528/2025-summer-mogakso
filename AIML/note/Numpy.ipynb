{
  "nbformat": 4,
  "nbformat_minor": 0,
  "metadata": {
    "colab": {
      "provenance": [],
      "authorship_tag": "ABX9TyMRSOfRWiisi7htutqryK96",
      "include_colab_link": true
    },
    "kernelspec": {
      "name": "python3",
      "display_name": "Python 3"
    },
    "language_info": {
      "name": "python"
    }
  },
  "cells": [
    {
      "cell_type": "markdown",
      "metadata": {
        "id": "view-in-github",
        "colab_type": "text"
      },
      "source": [
        "<a href=\"https://colab.research.google.com/github/HoYoung528/2025-summer-mogakso/blob/main/AIML/note/Numpy.ipynb\" target=\"_parent\"><img src=\"https://colab.research.google.com/assets/colab-badge.svg\" alt=\"Open In Colab\"/></a>"
      ]
    },
    {
      "cell_type": "markdown",
      "source": [
        "# Numpy ndarray 개요"
      ],
      "metadata": {
        "id": "gGzgsV65Dvw1"
      }
    },
    {
      "cell_type": "code",
      "source": [
        "import numpy as np"
      ],
      "metadata": {
        "id": "_Q6bvuk0D2AJ"
      },
      "execution_count": null,
      "outputs": []
    },
    {
      "cell_type": "code",
      "source": [
        "list1 = [1,2,3]\n",
        "print(\"list1 type: \", type(list1))\n",
        "\n",
        "array1 = np.array(list1)\n",
        "print(\"array1 type: \", type(array1))\n",
        "print(\"array1 shape: \", array1.shape)\n",
        "\n",
        "array2 = np.array([[1,2,3],\n",
        "                   [4,5,6]])\n",
        "print(\"array2 type: \", type(array2))\n",
        "print(\"array2 shape: \", array2.shape)\n",
        "\n",
        "array3 = np.array([[1,2,3]])\n",
        "print(\"array3 type: \", type(array3))\n",
        "print(\"array3 shpae: \", array3.shape)"
      ],
      "metadata": {
        "colab": {
          "base_uri": "https://localhost:8080/"
        },
        "id": "AB7ncPB4D5PN",
        "outputId": "6b905170-7fcf-4652-c482-c7b0e3d25e28"
      },
      "execution_count": null,
      "outputs": [
        {
          "output_type": "stream",
          "name": "stdout",
          "text": [
            "list1 type:  <class 'list'>\n",
            "array1 type:  <class 'numpy.ndarray'>\n",
            "array1 shape:  (3,)\n",
            "array2 type:  <class 'numpy.ndarray'>\n",
            "array2 shape:  (2, 3)\n",
            "array3 type:  <class 'numpy.ndarray'>\n",
            "array3 shpae:  (1, 3)\n"
          ]
        }
      ]
    },
    {
      "cell_type": "code",
      "source": [
        "print(\"array1: {:0}차원, array2: {:1}차원, array3:{:2}차원\".format(array1.ndim, array2.ndim, array3.ndim))"
      ],
      "metadata": {
        "colab": {
          "base_uri": "https://localhost:8080/"
        },
        "id": "M_c1non4FdwW",
        "outputId": "50444737-4112-43b0-bb88-129703226477"
      },
      "execution_count": null,
      "outputs": [
        {
          "output_type": "stream",
          "name": "stdout",
          "text": [
            "array1: 1차원, array2: 2차원, array3: 2차원\n"
          ]
        }
      ]
    },
    {
      "cell_type": "markdown",
      "source": [
        "# ndarray 데이터 타입"
      ],
      "metadata": {
        "id": "0F9zOXmzF2uu"
      }
    },
    {
      "cell_type": "code",
      "source": [
        "list1 = [1,2,3]\n",
        "print(type(list1))\n",
        "\n",
        "array1 = np.array(list1)\n",
        "print(type(array1))\n",
        "\n",
        "print(array1, array1.dtype)"
      ],
      "metadata": {
        "colab": {
          "base_uri": "https://localhost:8080/"
        },
        "id": "WCTglNVyFx3f",
        "outputId": "98e43b84-e9ef-4d87-829d-1f1c5a38b5a8"
      },
      "execution_count": null,
      "outputs": [
        {
          "output_type": "stream",
          "name": "stdout",
          "text": [
            "<class 'list'>\n",
            "<class 'numpy.ndarray'>\n",
            "[1 2 3] int64\n"
          ]
        }
      ]
    },
    {
      "cell_type": "code",
      "source": [
        "list2 = [1,2,'test']\n",
        "array2 = np.array(list2)\n",
        "print(array2, array2.dtype)\n",
        "\n",
        "list3 = [1,2,3.0]\n",
        "array3 = np.array(list3)\n",
        "print(array3, array3.dtype)\n",
        "\n",
        "# 데이터 타입이 다르면 메모리가 큰 쪽으로 자동 형변환이 진행됨"
      ],
      "metadata": {
        "colab": {
          "base_uri": "https://localhost:8080/"
        },
        "id": "n53jsOzsGHRW",
        "outputId": "071d196d-68fb-4965-9d3f-08b18bafbb84"
      },
      "execution_count": null,
      "outputs": [
        {
          "output_type": "stream",
          "name": "stdout",
          "text": [
            "['1' '2' 'test'] <U21\n",
            "[1. 2. 3.] float64\n"
          ]
        }
      ]
    },
    {
      "cell_type": "code",
      "source": [
        "array_int = np.array([1,2,3])\n",
        "array_float = array_int.astype('float64')\n",
        "print(array_float, array_float.dtype)\n",
        "\n",
        "array_int1 = array_float.astype('int32')\n",
        "print(array_int1, array_int1.dtype)\n",
        "\n",
        "array_float1 = np.array([1.1, 2.1, 3.1])\n",
        "array_int2 = array_float1.astype('int32')\n",
        "print(array_int2, array_int2.dtype)"
      ],
      "metadata": {
        "colab": {
          "base_uri": "https://localhost:8080/"
        },
        "id": "mpCyCB6aG2Q6",
        "outputId": "28214ec6-e959-4d77-8182-221cfdf9acdb"
      },
      "execution_count": null,
      "outputs": [
        {
          "output_type": "stream",
          "name": "stdout",
          "text": [
            "[1. 2. 3.] float64\n",
            "[1 2 3] int32\n",
            "[1 2 3] int32\n"
          ]
        }
      ]
    },
    {
      "cell_type": "markdown",
      "source": [
        "# ndarray 편리하게 생성하기 - arange, zeros, ones"
      ],
      "metadata": {
        "id": "CixrWWxrSrnF"
      }
    },
    {
      "cell_type": "code",
      "source": [
        "sequence_array = np.arange(10)\n",
        "print(sequence_array)\n",
        "print(sequence_array.dtype, sequence_array.shape)"
      ],
      "metadata": {
        "colab": {
          "base_uri": "https://localhost:8080/"
        },
        "id": "x8nNi6rESqqJ",
        "outputId": "5c80d210-5f6d-4939-940f-5b84b0e07e23"
      },
      "execution_count": null,
      "outputs": [
        {
          "output_type": "stream",
          "name": "stdout",
          "text": [
            "[0 1 2 3 4 5 6 7 8 9]\n",
            "int64 (10,)\n"
          ]
        }
      ]
    },
    {
      "cell_type": "code",
      "source": [
        "zero_array = np.zeros((3, 2), dtype='int32')\n",
        "print(zero_array)\n",
        "print(zero_array.dtype, zero_array.shape)\n",
        "\n",
        "one_array = np.ones((3, 2))\n",
        "print(one_array)\n",
        "print(one_array.dtype, one_array.shape)"
      ],
      "metadata": {
        "colab": {
          "base_uri": "https://localhost:8080/"
        },
        "id": "DHqxTEw9THzE",
        "outputId": "903a7147-c40f-4dd4-d5a5-00a83d2f3107"
      },
      "execution_count": null,
      "outputs": [
        {
          "output_type": "stream",
          "name": "stdout",
          "text": [
            "[[0 0]\n",
            " [0 0]\n",
            " [0 0]]\n",
            "int32 (3, 2)\n",
            "[[1. 1.]\n",
            " [1. 1.]\n",
            " [1. 1.]]\n",
            "float64 (3, 2)\n"
          ]
        }
      ]
    },
    {
      "cell_type": "markdown",
      "source": [
        "# ndarray 차원과 크기 변경 - reshape"
      ],
      "metadata": {
        "id": "riXQ6JPLW46O"
      }
    },
    {
      "cell_type": "code",
      "source": [
        "array1 = np.arange(10)\n",
        "print(\"array1: \\n\", array1)\n",
        "\n",
        "array2 = array1.reshape(2, 5)\n",
        "print(\"array2: \\n\", array2)\n",
        "\n",
        "array3 = array1.reshape(5, 2)\n",
        "print(\"array3: \\n\", array3)"
      ],
      "metadata": {
        "colab": {
          "base_uri": "https://localhost:8080/"
        },
        "id": "sbEp_PE6Wrm0",
        "outputId": "747f8371-07c9-4b3b-e53a-ce6c268f1197"
      },
      "execution_count": null,
      "outputs": [
        {
          "output_type": "stream",
          "name": "stdout",
          "text": [
            "array1: \n",
            " [0 1 2 3 4 5 6 7 8 9]\n",
            "array2: \n",
            " [[0 1 2 3 4]\n",
            " [5 6 7 8 9]]\n",
            "array3: \n",
            " [[0 1]\n",
            " [2 3]\n",
            " [4 5]\n",
            " [6 7]\n",
            " [8 9]]\n"
          ]
        }
      ]
    },
    {
      "cell_type": "code",
      "source": [
        "# 요소가 10개인데 4 x 3은 개수가 맞지 않으므로 에러 발생\n",
        "array1.reshape(4, 3)"
      ],
      "metadata": {
        "id": "ck3Bq473YLOz"
      },
      "execution_count": null,
      "outputs": []
    },
    {
      "cell_type": "code",
      "source": [
        "array1 = np.arange(10)\n",
        "print(array1)\n",
        "\n",
        "array2 = array1.reshape(-1, 5)\n",
        "print(\"array2 shape: \", array2.shape)\n",
        "\n",
        "array3 = array1.reshape(5, -1)\n",
        "print(\"array3 shape: \", array3.shape)"
      ],
      "metadata": {
        "colab": {
          "base_uri": "https://localhost:8080/"
        },
        "id": "XpvRFWhCXaJL",
        "outputId": "eb24ad0a-6601-4c72-d34c-27767548897f"
      },
      "execution_count": null,
      "outputs": [
        {
          "output_type": "stream",
          "name": "stdout",
          "text": [
            "[0 1 2 3 4 5 6 7 8 9]\n",
            "array2 shape:  (2, 5)\n",
            "array3 shape:  (5, 2)\n"
          ]
        }
      ]
    },
    {
      "cell_type": "code",
      "source": [
        "# 요소가 10개인데 개수가 맞지 않으므로 에러 발생\n",
        "array1 = np.arange(10)\n",
        "array4 = array1.reshape(-1, 4)"
      ],
      "metadata": {
        "colab": {
          "base_uri": "https://localhost:8080/",
          "height": 166
        },
        "id": "q1wtgrVRYC6G",
        "outputId": "166bb58f-540b-496d-ed9f-1dfa38886462"
      },
      "execution_count": null,
      "outputs": [
        {
          "output_type": "error",
          "ename": "ValueError",
          "evalue": "cannot reshape array of size 10 into shape (4)",
          "traceback": [
            "\u001b[0;31m---------------------------------------------------------------------------\u001b[0m",
            "\u001b[0;31mValueError\u001b[0m                                Traceback (most recent call last)",
            "\u001b[0;32m/tmp/ipython-input-15-3856845456.py\u001b[0m in \u001b[0;36m<cell line: 0>\u001b[0;34m()\u001b[0m\n\u001b[1;32m      1\u001b[0m \u001b[0marray1\u001b[0m \u001b[0;34m=\u001b[0m \u001b[0mnp\u001b[0m\u001b[0;34m.\u001b[0m\u001b[0marange\u001b[0m\u001b[0;34m(\u001b[0m\u001b[0;36m10\u001b[0m\u001b[0;34m)\u001b[0m\u001b[0;34m\u001b[0m\u001b[0;34m\u001b[0m\u001b[0m\n\u001b[0;32m----> 2\u001b[0;31m \u001b[0marray4\u001b[0m \u001b[0;34m=\u001b[0m \u001b[0marray1\u001b[0m\u001b[0;34m.\u001b[0m\u001b[0mreshape\u001b[0m\u001b[0;34m(\u001b[0m\u001b[0;34m-\u001b[0m\u001b[0;36m1\u001b[0m\u001b[0;34m,\u001b[0m \u001b[0;36m4\u001b[0m\u001b[0;34m)\u001b[0m\u001b[0;34m\u001b[0m\u001b[0;34m\u001b[0m\u001b[0m\n\u001b[0m",
            "\u001b[0;31mValueError\u001b[0m: cannot reshape array of size 10 into shape (4)"
          ]
        }
      ]
    },
    {
      "cell_type": "code",
      "source": [
        "array1 = np.arange(8)\n",
        "\n",
        "# 3차원 변환\n",
        "array3d = array1.reshape((2,2,2))\n",
        "print(\"array3d: \\n\", array3d)\n",
        "\n",
        "# 3차원 -> 2차원 변환\n",
        "array5 = array3d.reshape(-1, 1)\n",
        "print(\"array5: \\n\", array5)\n",
        "print(\"array5 shape: \", array5.shape)\n",
        "\n",
        "# 1차원 -> 2차원 변환\n",
        "array6 = array1.reshape(-1, 1)\n",
        "print(\"array6: \\n\", array6)\n",
        "print(\"array6 shape: \", array6.shape)\n",
        "\n",
        "# 3차원 -> 1차원 변환\n",
        "array1d = array3d.reshape(-1,)\n",
        "print(\"array1d: \", array1d)\n",
        "print(\"array1d shape: \", array1d.shape)"
      ],
      "metadata": {
        "colab": {
          "base_uri": "https://localhost:8080/"
        },
        "id": "cDoq__Z4Yddr",
        "outputId": "8564e2c3-6a79-4049-eb6a-a717c9602d07"
      },
      "execution_count": null,
      "outputs": [
        {
          "output_type": "stream",
          "name": "stdout",
          "text": [
            "array3d: \n",
            " [[[0 1]\n",
            "  [2 3]]\n",
            "\n",
            " [[4 5]\n",
            "  [6 7]]]\n",
            "array5: \n",
            " [[0]\n",
            " [1]\n",
            " [2]\n",
            " [3]\n",
            " [4]\n",
            " [5]\n",
            " [6]\n",
            " [7]]\n",
            "array5 shape:  (8, 1)\n",
            "array6: \n",
            " [[0]\n",
            " [1]\n",
            " [2]\n",
            " [3]\n",
            " [4]\n",
            " [5]\n",
            " [6]\n",
            " [7]]\n",
            "array6 shape:  (8, 1)\n",
            "array1d:  [0 1 2 3 4 5 6 7]\n",
            "array1d shape:  (8,)\n"
          ]
        }
      ]
    },
    {
      "cell_type": "markdown",
      "source": [
        "# ndarray 데이터 세트 선택"
      ],
      "metadata": {
        "id": "IVYF3Rpyorwg"
      }
    },
    {
      "cell_type": "markdown",
      "source": [
        "### 1. 단일 인덱싱"
      ],
      "metadata": {
        "id": "UoPQH-9YpKcl"
      }
    },
    {
      "cell_type": "code",
      "source": [
        "array1 = np.arange(start=1, stop=10)\n",
        "print(\"array1: \", array1)\n",
        "\n",
        "value = array1[2]\n",
        "print(\"value: \", value)\n",
        "print(type(value))"
      ],
      "metadata": {
        "colab": {
          "base_uri": "https://localhost:8080/"
        },
        "id": "FM74244tap0x",
        "outputId": "3995c28c-3dc7-4fec-cd6f-c4a08ecb7683"
      },
      "execution_count": null,
      "outputs": [
        {
          "output_type": "stream",
          "name": "stdout",
          "text": [
            "array1:  [1 2 3 4 5 6 7 8 9]\n",
            "value:  3\n",
            "<class 'numpy.int64'>\n"
          ]
        }
      ]
    },
    {
      "cell_type": "code",
      "source": [
        "print(\"맨 뒤의 값: \", array1[-1], \"뒤에서 두 번째 값: \", array1[-2])"
      ],
      "metadata": {
        "colab": {
          "base_uri": "https://localhost:8080/"
        },
        "id": "Au8te7mVpEO0",
        "outputId": "1f2c5a85-2951-4f46-bc0e-8f4a438fb779"
      },
      "execution_count": null,
      "outputs": [
        {
          "output_type": "stream",
          "name": "stdout",
          "text": [
            "맨 뒤의 값:  9 뒤에서 두 번째 값:  8\n"
          ]
        }
      ]
    },
    {
      "cell_type": "code",
      "source": [
        "array1[0] = 9\n",
        "array1[8] = 0\n",
        "print(\"array1: \", array1)"
      ],
      "metadata": {
        "colab": {
          "base_uri": "https://localhost:8080/"
        },
        "id": "c6BrJNZ3pcQ2",
        "outputId": "f3acc116-cef0-4d98-9852-70d144c30862"
      },
      "execution_count": null,
      "outputs": [
        {
          "output_type": "stream",
          "name": "stdout",
          "text": [
            "array1:  [9 2 3 4 5 6 7 8 0]\n"
          ]
        }
      ]
    },
    {
      "cell_type": "code",
      "source": [
        "array1d = np.arange(start=1, stop=10)\n",
        "array2d = array1d.reshape(3, 3)\n",
        "print(array2d)\n",
        "\n",
        "print(\"(row=1, col=1) index 가리키는 값\", array2d[1][1])"
      ],
      "metadata": {
        "colab": {
          "base_uri": "https://localhost:8080/"
        },
        "id": "ZcD3FORAptBR",
        "outputId": "df7e9598-87e3-432b-9371-8cbe5bfb3e6a"
      },
      "execution_count": null,
      "outputs": [
        {
          "output_type": "stream",
          "name": "stdout",
          "text": [
            "[[1 2 3]\n",
            " [4 5 6]\n",
            " [7 8 9]]\n",
            "(row=1, col=1) index 가리키는 값 5\n"
          ]
        }
      ]
    },
    {
      "cell_type": "markdown",
      "source": [
        "### 2. 슬라이싱 인덱싱"
      ],
      "metadata": {
        "id": "CBLU8qv3qUcE"
      }
    },
    {
      "cell_type": "code",
      "source": [
        "array1 = np.arange(start=1, stop=10)\n",
        "print(\"array1: \", array1)\n",
        "array3 = array1[0:3]\n",
        "print(\"array3: \", array3)\n",
        "print(type(array3))"
      ],
      "metadata": {
        "colab": {
          "base_uri": "https://localhost:8080/"
        },
        "id": "_aMb7hqJqHFu",
        "outputId": "10b2ec06-8db3-49bf-b797-464e5075fc2d"
      },
      "execution_count": null,
      "outputs": [
        {
          "output_type": "stream",
          "name": "stdout",
          "text": [
            "array1:  [1 2 3 4 5 6 7 8 9]\n",
            "array3:  [1 2 3]\n",
            "<class 'numpy.ndarray'>\n"
          ]
        }
      ]
    },
    {
      "cell_type": "code",
      "source": [
        "array1 = np.arange(start=1, stop=10)\n",
        "\n",
        "# 처음부터 2까지\n",
        "array4 = array1[:3]\n",
        "print(array4)\n",
        "\n",
        "# 3부터 마지막까지\n",
        "array5 = array1[3:]\n",
        "print(array5)\n",
        "\n",
        "# 전체 데이터\n",
        "array6 = array1[:]\n",
        "print(array6)"
      ],
      "metadata": {
        "colab": {
          "base_uri": "https://localhost:8080/"
        },
        "id": "2GohazWnqlSB",
        "outputId": "16377717-2228-4880-87a8-1e47204f0cc1"
      },
      "execution_count": null,
      "outputs": [
        {
          "output_type": "stream",
          "name": "stdout",
          "text": [
            "[1 2 3]\n",
            "[4 5 6 7 8 9]\n",
            "[1 2 3 4 5 6 7 8 9]\n"
          ]
        }
      ]
    },
    {
      "cell_type": "code",
      "source": [
        "array1d = np.arange(start=1, stop=10)\n",
        "array2d = array1d.reshape(3, 3)\n",
        "print(\"array2d:\\n\", array2d)\n",
        "\n",
        "print('array2d[0:2, 0:2] \\n', array2d[0:2, 0:2])\n",
        "print('array2d[1:3, 0:3] \\n', array2d[1:3, 0:3])\n",
        "print('array2d[1:3, :] \\n', array2d[1:3, :])\n",
        "print('array2d[:, :] \\n', array2d[:, :])\n",
        "print('array2d[:2, 1:] \\n', array2d[:2, 1:])\n",
        "print('array2d[:2, 0] \\n', array2d[:2, 0])"
      ],
      "metadata": {
        "colab": {
          "base_uri": "https://localhost:8080/"
        },
        "id": "dLn_TLtkq-ew",
        "outputId": "72bc1557-6340-4980-f21e-94facc8a378d"
      },
      "execution_count": null,
      "outputs": [
        {
          "output_type": "stream",
          "name": "stdout",
          "text": [
            "array2d:\n",
            " [[1 2 3]\n",
            " [4 5 6]\n",
            " [7 8 9]]\n",
            "array2d[0:2, 0:2] \n",
            " [[1 2]\n",
            " [4 5]]\n",
            "array2d[1:3, 0:3] \n",
            " [[4 5 6]\n",
            " [7 8 9]]\n",
            "array2d[1:3, :] \n",
            " [[4 5 6]\n",
            " [7 8 9]]\n",
            "array2d[:, :] \n",
            " [[1 2 3]\n",
            " [4 5 6]\n",
            " [7 8 9]]\n",
            "array2d[:2, 1:] \n",
            " [[2 3]\n",
            " [5 6]]\n",
            "array2d[:2, 0] \n",
            " [1 4]\n"
          ]
        }
      ]
    },
    {
      "cell_type": "code",
      "source": [
        "# n차원 배열에서 값을 고정하면 차원이 줄어들음 2차원 -> 1차원\n",
        "\n",
        "print(array2d[0])\n",
        "print(array2d[1])\n",
        "print(\"array2d[0] shape: \", array2d[0].shape, \"array2d[1] shape: \", array2d[1].shape)"
      ],
      "metadata": {
        "colab": {
          "base_uri": "https://localhost:8080/"
        },
        "id": "RlpSj_79sBFL",
        "outputId": "aac5b384-ef90-453b-dfd6-9f68c171df9c"
      },
      "execution_count": null,
      "outputs": [
        {
          "output_type": "stream",
          "name": "stdout",
          "text": [
            "[1 2 3]\n",
            "[4 5 6]\n",
            "array2d[0] shape:  (3,) array2d[1] shape:  (3,)\n"
          ]
        }
      ]
    },
    {
      "cell_type": "markdown",
      "source": [
        "### 3. 팬시 인덱싱"
      ],
      "metadata": {
        "id": "uwmdx66vsoVC"
      }
    },
    {
      "cell_type": "code",
      "source": [
        "array1d = np.arange(start=1, stop=10)\n",
        "array2d = array1d.reshape(3, 3)\n",
        "\n",
        "array3 = array2d[[0, 1], 2]\n",
        "print(\"array2d[[0, 1], 2]: \\n\", array3)\n",
        "\n",
        "array4 = array2d[[0, 1], 0:2]\n",
        "print(\"array2d[[0, 1], 0:2]: \\n\", array4)\n",
        "\n",
        "array5 = array2d[[0, 1]]\n",
        "print(\"array2d[[0, 1]]: \\n\", array5)"
      ],
      "metadata": {
        "colab": {
          "base_uri": "https://localhost:8080/"
        },
        "id": "trOBD55rsPly",
        "outputId": "197ccd9e-8947-409e-9d59-92c6da364a6b"
      },
      "execution_count": null,
      "outputs": [
        {
          "output_type": "stream",
          "name": "stdout",
          "text": [
            "array2d[[0, 1], 2]: \n",
            " [3 6]\n",
            "array2d[[0, 1], 0:2]: \n",
            " [[1 2]\n",
            " [4 5]]\n",
            "array2d[[0, 1]]: \n",
            " [[1 2 3]\n",
            " [4 5 6]]\n"
          ]
        }
      ]
    },
    {
      "cell_type": "markdown",
      "source": [
        "### 4. 불린 인덱싱"
      ],
      "metadata": {
        "id": "87k2_9ZxtsE6"
      }
    },
    {
      "cell_type": "code",
      "source": [
        "array1d = np.arange(start=1, stop=10)\n",
        "print(array1d)\n",
        "\n",
        "# array1d > 5 조건 적용\n",
        "array3 = array1d[array1d > 5]\n",
        "print(\"array1d > 5 인덱싱 결과 값: \", array3)"
      ],
      "metadata": {
        "colab": {
          "base_uri": "https://localhost:8080/"
        },
        "id": "uSKfX0igtESI",
        "outputId": "a0f95d6c-d945-48d8-e9eb-c33d1ed32dbc"
      },
      "execution_count": null,
      "outputs": [
        {
          "output_type": "stream",
          "name": "stdout",
          "text": [
            "[1 2 3 4 5 6 7 8 9]\n",
            "array1d > 5 인덱싱 결과 값:  [6 7 8 9]\n"
          ]
        }
      ]
    },
    {
      "cell_type": "code",
      "source": [
        "# 불린 인덱싱을 사용하지 않을 경우\n",
        "\n",
        "arraay1d = np.arange(start=1, stop=10)\n",
        "target = []\n",
        "\n",
        "for i in range(9):\n",
        "  if array1d[i] > 5:\n",
        "    target.append(array1d[i])\n",
        "\n",
        "array_selected = np.array(target)\n",
        "print(array_selected)"
      ],
      "metadata": {
        "colab": {
          "base_uri": "https://localhost:8080/"
        },
        "id": "UKAwzoSBuKds",
        "outputId": "838ad3b5-eb48-4c94-9992-48eb8f2f3bee"
      },
      "execution_count": null,
      "outputs": [
        {
          "output_type": "stream",
          "name": "stdout",
          "text": [
            "[6 7 8 9]\n"
          ]
        }
      ]
    },
    {
      "cell_type": "markdown",
      "source": [
        "# 행렬의 정렬 - sort()와 argsort()"
      ],
      "metadata": {
        "id": "B1GDa95UydZV"
      }
    },
    {
      "cell_type": "markdown",
      "source": [
        "### 1. sort()"
      ],
      "metadata": {
        "id": "n-RPMe5PyhOg"
      }
    },
    {
      "cell_type": "code",
      "source": [
        "org_array = np.array([3, 1, 9, 5])\n",
        "print(\"원본 배열: \", org_array)\n",
        "\n",
        "# np.sort()로 정렬\n",
        "sort_array1 = np.sort(org_array)\n",
        "print(\"np.sort() 호출 후 반환된 정렬 배열: \", sort_array1)\n",
        "print(\"np.sort() 호출 후 원본 배열: \", org_array)\n",
        "\n",
        "# ndarray.sort()로 정렬\n",
        "sort_array2 = org_array.sort()\n",
        "print(\"org_array.sort() 호출 후 반환된 배열: \", sort_array2)\n",
        "print(\"org_array.sort() 호출 후 원본 배열: \", org_array)"
      ],
      "metadata": {
        "colab": {
          "base_uri": "https://localhost:8080/"
        },
        "id": "8GKRa5QhuN7F",
        "outputId": "43122e17-6e87-4f76-a8b6-10f54a10131f"
      },
      "execution_count": null,
      "outputs": [
        {
          "output_type": "stream",
          "name": "stdout",
          "text": [
            "원본 배열:  [3 1 9 5]\n",
            "np.sort() 호출 후 반환된 정렬 배열:  [1 3 5 9]\n",
            "np.sort() 호출 후 원본 배열:  [3 1 9 5]\n",
            "org_array.sort() 호출 후 반환된 배열:  None\n",
            "org_array.sort() 호출 후 원본 배열:  [1 3 5 9]\n"
          ]
        }
      ]
    },
    {
      "cell_type": "code",
      "source": [
        "sort_array1_desc = np.sort(org_array)[::-1]\n",
        "print(\"내림차순으로 정렬: \", sort_array1_desc)"
      ],
      "metadata": {
        "colab": {
          "base_uri": "https://localhost:8080/"
        },
        "id": "AU8RB1gVzU6n",
        "outputId": "c54ac788-ef33-456a-ac1f-550fe19729b0"
      },
      "execution_count": null,
      "outputs": [
        {
          "output_type": "stream",
          "name": "stdout",
          "text": [
            "내림차순으로 정렬:  [9 5 3 1]\n"
          ]
        }
      ]
    },
    {
      "cell_type": "code",
      "source": [
        "array2d = np.array([[8, 12],\n",
        "                    [7, 1]])\n",
        "\n",
        "sort_array2d_axis0 = np.sort(array2d, axis=0)\n",
        "print(\"row 방향으로 정렬: \\n\", sort_array2d_axis0)\n",
        "\n",
        "sort_array2d_axis1 = np.sort(array2d, axis=1)\n",
        "print(\"column 방향으로 정렬: \\n\", sort_array2d_axis1)"
      ],
      "metadata": {
        "colab": {
          "base_uri": "https://localhost:8080/"
        },
        "id": "6Z_9zsJCzv8Z",
        "outputId": "67fd59c4-f83e-465d-ead9-99f5ba321426"
      },
      "execution_count": null,
      "outputs": [
        {
          "output_type": "stream",
          "name": "stdout",
          "text": [
            "row 방향으로 정렬: \n",
            " [[ 7  1]\n",
            " [ 8 12]]\n",
            "column 방향으로 정렬: \n",
            " [[ 8 12]\n",
            " [ 1  7]]\n"
          ]
        }
      ]
    },
    {
      "cell_type": "markdown",
      "source": [
        "### argsort()"
      ],
      "metadata": {
        "id": "duQ9LOBc0lTs"
      }
    },
    {
      "cell_type": "code",
      "source": [
        "org_array = np.array([3, 1, 9, 5])\n",
        "sort_indices = np.argsort(org_array)\n",
        "print(type(sort_indices))\n",
        "print(\"행렬 정렬 시 원본 배열의 인덱스: \", sort_indices)"
      ],
      "metadata": {
        "colab": {
          "base_uri": "https://localhost:8080/"
        },
        "id": "aOoRXuPG0aGH",
        "outputId": "0e644f29-b4a9-45a4-eedc-e3301dffbead"
      },
      "execution_count": null,
      "outputs": [
        {
          "output_type": "stream",
          "name": "stdout",
          "text": [
            "<class 'numpy.ndarray'>\n",
            "행렬 정렬 시 원본 배열의 인덱스:  [1 0 3 2]\n"
          ]
        }
      ]
    },
    {
      "cell_type": "code",
      "source": [
        "org_array = np.array([3, 1, 9, 5])[::-1]\n",
        "sort_indices_desc = np.argsort(org_array)\n",
        "print(\"행렬 내림차순 정렬 시 원본 배열의 인덱스: \", sort_indices_desc)"
      ],
      "metadata": {
        "colab": {
          "base_uri": "https://localhost:8080/"
        },
        "id": "LrYb7t0x0_nu",
        "outputId": "adb6adc8-6784-4ef1-effd-c3c117758ed3"
      },
      "execution_count": null,
      "outputs": [
        {
          "output_type": "stream",
          "name": "stdout",
          "text": [
            "행렬 내림차순 정렬 시 원본 배열의 인덱스:  [2 3 0 1]\n"
          ]
        }
      ]
    },
    {
      "cell_type": "code",
      "source": [
        "name_array = np.array(['John', 'Mike', 'Sarah', 'Kate', 'Samuel'])\n",
        "score_array = np.array([78, 95, 84, 98, 88])\n",
        "\n",
        "sort_indices = np.argsort(score_array)\n",
        "print(\"성적 오름차순 정렬 시 score_array의 인덱스: \", sort_indices)\n",
        "print(\"성적 오름차순 정렬 시 name_array의 이름 출력: \", name_array[sort_indices])"
      ],
      "metadata": {
        "colab": {
          "base_uri": "https://localhost:8080/"
        },
        "id": "G6iRpum01Jhd",
        "outputId": "4ca3eb7b-b16c-496c-d349-84bfbb826a70"
      },
      "execution_count": null,
      "outputs": [
        {
          "output_type": "stream",
          "name": "stdout",
          "text": [
            "성적 오름차순 정렬 시 score_array의 인덱스:  [0 2 4 1 3]\n",
            "성적 오름차순 정렬 시 name_array의 이름 출력:  ['John' 'Sarah' 'Samuel' 'Mike' 'Kate']\n"
          ]
        }
      ]
    },
    {
      "cell_type": "markdown",
      "source": [
        "# 선형대수 연산 - 행렬 내적과 전치 행렬"
      ],
      "metadata": {
        "id": "8eZwlfle2D2-"
      }
    },
    {
      "cell_type": "markdown",
      "source": [
        "### 1. 행렬 내적"
      ],
      "metadata": {
        "id": "lPK7ngDc3VNv"
      }
    },
    {
      "cell_type": "code",
      "source": [
        "A = np.array([[1, 2, 3],\n",
        "              [4, 5, 6]])\n",
        "B = np.array([[7, 8],\n",
        "              [9, 10],\n",
        "              [11, 12]])\n",
        "dot_prodoct = np.dot(A, B)\n",
        "print(\"행렬 내적 결과: \\n\", dot_prodoct)"
      ],
      "metadata": {
        "colab": {
          "base_uri": "https://localhost:8080/"
        },
        "id": "JZDnOw_y3W1j",
        "outputId": "bffd10ce-2513-4e7c-acdc-0ca4c2f64aa2"
      },
      "execution_count": null,
      "outputs": [
        {
          "output_type": "stream",
          "name": "stdout",
          "text": [
            "행렬 내적 결과: \n",
            " [[ 58  64]\n",
            " [139 154]]\n"
          ]
        }
      ]
    },
    {
      "cell_type": "markdown",
      "source": [
        "### 2. 전치 행렬"
      ],
      "metadata": {
        "id": "921DtKcA4A19"
      }
    },
    {
      "cell_type": "code",
      "source": [
        "A = np.array([[1, 2],\n",
        "             [3, 4]])\n",
        "transpose_mat = np.transpose(A)\n",
        "print(\"A의 전치 행렬: \\n\", transpose_mat)"
      ],
      "metadata": {
        "colab": {
          "base_uri": "https://localhost:8080/"
        },
        "id": "Vso0y4Sa19aV",
        "outputId": "addc780c-9a47-4591-8202-3fed6ddfa810"
      },
      "execution_count": null,
      "outputs": [
        {
          "output_type": "stream",
          "name": "stdout",
          "text": [
            "A의 전치 행렬: \n",
            " [[1 3]\n",
            " [2 4]]\n"
          ]
        }
      ]
    }
  ]
}